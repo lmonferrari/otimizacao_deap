{
 "cells": [
  {
   "cell_type": "code",
   "execution_count": 1,
   "metadata": {},
   "outputs": [],
   "source": [
    "import pandas as pd\n",
    "import numpy as np\n",
    "from deap import base\n",
    "from deap import creator\n",
    "from deap import tools\n",
    "from deap import algorithms"
   ]
  },
  {
   "cell_type": "code",
   "execution_count": 2,
   "metadata": {},
   "outputs": [],
   "source": [
    "# espaços do caminhão/problema\n",
    "limite = 2"
   ]
  },
  {
   "cell_type": "code",
   "execution_count": 3,
   "metadata": {},
   "outputs": [],
   "source": [
    "produtos = [\n",
    "    {\"nome\": \"Geladeira\", \"espaco\": 0.751, \"valor\": 999.90},\n",
    "    {\"nome\": \"Celular\", \"espaco\": 0.0000899, \"valor\": 2911.12},\n",
    "    {\"nome\": \"TV 55\", \"espaco\": 0.400, \"valor\": 4346.99},\n",
    "    {\"nome\": \"TV 50\", \"espaco\": 0.290, \"valor\": 3999.90},\n",
    "    {\"nome\": \"TV 42\", \"espaco\": 0.200, \"valor\": 2999.00},\n",
    "    {\"nome\": \"Notebook Dell\", \"espaco\": 0.00350, \"valor\": 2499.90},\n",
    "    {\"nome\": \"Ventilador Panasonic\", \"espaco\": 0.496, \"valor\": 199.90},\n",
    "    {\"nome\": \"Microondas Electrolux\", \"espaco\": 0.0424, \"valor\": 308.66},\n",
    "    {\"nome\": \"Microondas LG\", \"espaco\": 0.0544, \"valor\": 429.90},\n",
    "    {\"nome\": \"Microondas Panasonic\", \"espaco\": 0.0319, \"valor\": 299.29},\n",
    "    {\"nome\": \"Geladeira Brastemp\", \"espaco\": 0.635, \"valor\": 849.00},\n",
    "    {\"nome\": \"Geladeira Consul\", \"espaco\": 0.870, \"valor\": 1199.89},\n",
    "    {\"nome\": \"Notebook Lenovo\", \"espaco\": 0.498, \"valor\": 1999.90},\n",
    "    {\"nome\": \"Notebook Asus\", \"espaco\": 0.527, \"valor\": 3999.00},\n",
    "]"
   ]
  },
  {
   "cell_type": "code",
   "execution_count": 4,
   "metadata": {},
   "outputs": [
    {
     "data": {
      "text/html": [
       "<div>\n",
       "<style scoped>\n",
       "    .dataframe tbody tr th:only-of-type {\n",
       "        vertical-align: middle;\n",
       "    }\n",
       "\n",
       "    .dataframe tbody tr th {\n",
       "        vertical-align: top;\n",
       "    }\n",
       "\n",
       "    .dataframe thead th {\n",
       "        text-align: right;\n",
       "    }\n",
       "</style>\n",
       "<table border=\"1\" class=\"dataframe\">\n",
       "  <thead>\n",
       "    <tr style=\"text-align: right;\">\n",
       "      <th></th>\n",
       "      <th>nome</th>\n",
       "      <th>espaco</th>\n",
       "      <th>valor</th>\n",
       "    </tr>\n",
       "  </thead>\n",
       "  <tbody>\n",
       "    <tr>\n",
       "      <th>0</th>\n",
       "      <td>Geladeira</td>\n",
       "      <td>0.75100</td>\n",
       "      <td>999.90</td>\n",
       "    </tr>\n",
       "    <tr>\n",
       "      <th>1</th>\n",
       "      <td>Celular</td>\n",
       "      <td>0.00009</td>\n",
       "      <td>2911.12</td>\n",
       "    </tr>\n",
       "    <tr>\n",
       "      <th>2</th>\n",
       "      <td>TV 55</td>\n",
       "      <td>0.40000</td>\n",
       "      <td>4346.99</td>\n",
       "    </tr>\n",
       "    <tr>\n",
       "      <th>3</th>\n",
       "      <td>TV 50</td>\n",
       "      <td>0.29000</td>\n",
       "      <td>3999.90</td>\n",
       "    </tr>\n",
       "    <tr>\n",
       "      <th>4</th>\n",
       "      <td>TV 42</td>\n",
       "      <td>0.20000</td>\n",
       "      <td>2999.00</td>\n",
       "    </tr>\n",
       "  </tbody>\n",
       "</table>\n",
       "</div>"
      ],
      "text/plain": [
       "        nome   espaco    valor\n",
       "0  Geladeira  0.75100   999.90\n",
       "1    Celular  0.00009  2911.12\n",
       "2      TV 55  0.40000  4346.99\n",
       "3      TV 50  0.29000  3999.90\n",
       "4      TV 42  0.20000  2999.00"
      ]
     },
     "execution_count": 4,
     "metadata": {},
     "output_type": "execute_result"
    }
   ],
   "source": [
    "df_produtos = pd.DataFrame(produtos)\n",
    "df_produtos.head()"
   ]
  },
  {
   "cell_type": "code",
   "execution_count": 5,
   "metadata": {},
   "outputs": [],
   "source": [
    "def avalicao(individuo):\n",
    "    espaco_total = sum(df_produtos[\"espaco\"] * individuo)\n",
    "    valor_total = sum(df_produtos[\"valor\"] * individuo)\n",
    "    if espaco_total > limite:\n",
    "        valor_total = 1\n",
    "    return valor_total / 100000,"
   ]
  },
  {
   "cell_type": "code",
   "execution_count": 6,
   "metadata": {},
   "outputs": [],
   "source": [
    "# setup do deap\n",
    "\n",
    "# define o tipo fitness (min ou max) e o tipo do indivíduo\n",
    "creator.create(\"FitnessMax\", base.Fitness, weights=(1.0,))\n",
    "creator.create(\"Individual\", list, fitness=creator.FitnessMax)\n",
    "\n",
    "# criação da toolbox\n",
    "toolbox = base.Toolbox()\n",
    "\n",
    "# função de inicialização dos indivíduos\n",
    "toolbox.register(\"attr_bool\", np.random.randint, 0, 2)\n",
    "# registrando o indivíduo\n",
    "toolbox.register(\n",
    "    \"individual\",\n",
    "    tools.initRepeat,\n",
    "    creator.Individual,\n",
    "    toolbox.attr_bool,\n",
    "    n=df_produtos.shape[0],\n",
    ")\n",
    "# registrando a população\n",
    "toolbox.register(\"population\", tools.initRepeat, list, toolbox.individual)\n",
    "# registrando a função de avaliação\n",
    "toolbox.register(\"evaluate\", avalicao)\n",
    "# registrando a função de crossover\n",
    "toolbox.register(\"mate\", tools.cxOnePoint)\n",
    "# registrando a função de mutação\n",
    "toolbox.register(\"mutate\", tools.mutFlipBit, indpb=0.05)\n",
    "# registrando a função de seleção\n",
    "toolbox.register(\"select\", tools.selRoulette)"
   ]
  },
  {
   "cell_type": "code",
   "execution_count": 7,
   "metadata": {},
   "outputs": [
    {
     "name": "stdout",
     "output_type": "stream",
     "text": [
      "[0, 1, 1, 1, 1, 1, 0, 1, 0, 0, 0, 0, 1, 1]\n",
      "(0.2306447,)\n",
      "Espaço total: 1.9609899\n",
      "Valor total: 23064.47\n",
      "Produtos: Celular, TV 55, TV 50, TV 42, Notebook Dell, Microondas Electrolux, Notebook Lenovo, Notebook Asus\n"
     ]
    }
   ],
   "source": [
    "if __name__ ==  \"__main__\":\n",
    "    populacao = toolbox.population(n=100)\n",
    "\n",
    "    CXPB, MUTPB, NGEN = 1.0, 0.05, 100\n",
    "    estatisticas = tools.Statistics(key=lambda individuo: individuo.fitness.values)\n",
    "    estatisticas.register(\"max\", np.max)\n",
    "\n",
    "    populacao, info = algorithms.eaSimple(\n",
    "        population=populacao,\n",
    "        toolbox=toolbox,\n",
    "        cxpb=CXPB,\n",
    "        mutpb=MUTPB,\n",
    "        ngen=NGEN,\n",
    "        stats=estatisticas,\n",
    "        verbose=False,\n",
    "    )\n",
    "\n",
    "    populacao, info\n",
    "    melhores = tools.selBest(populacao, k=1)\n",
    "    for individuo in melhores:\n",
    "        print(individuo)\n",
    "        print(individuo.fitness)\n",
    "        espaco_total = np.sum(df_produtos[\"espaco\"] * individuo)\n",
    "        valor_total = np.sum(df_produtos[\"valor\"] * individuo)\n",
    "        print(f\"Espaço total: {espaco_total}\")\n",
    "        print(f\"Valor total: {valor_total}\")\n",
    "\n",
    "        print(\"Produtos:\" , \", \".join(df_produtos['nome'].loc[df_produtos.index[individuo] == 1].values))"
   ]
  }
 ],
 "metadata": {
  "kernelspec": {
   "display_name": "deapEnv",
   "language": "python",
   "name": "python3"
  },
  "language_info": {
   "codemirror_mode": {
    "name": "ipython",
    "version": 3
   },
   "file_extension": ".py",
   "mimetype": "text/x-python",
   "name": "python",
   "nbconvert_exporter": "python",
   "pygments_lexer": "ipython3",
   "version": "3.11.7"
  }
 },
 "nbformat": 4,
 "nbformat_minor": 2
}
